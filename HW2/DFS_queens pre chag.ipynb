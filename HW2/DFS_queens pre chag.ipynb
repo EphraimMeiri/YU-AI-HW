{
 "nbformat": 4,
 "nbformat_minor": 0,
 "metadata": {
  "colab": {
   "provenance": [],
   "collapsed_sections": []
  },
  "kernelspec": {
   "name": "python3",
   "display_name": "Python 3"
  }
 },
 "cells": [
  {
   "cell_type": "markdown",
   "metadata": {
    "id": "KYYQSRC3iZwd"
   },
   "source": [
    "This is the notebook version of the code. I will use this to explain the homework.  I used parts of the code from: https://www.sanfoundry.com/python-program-solve-n-queen-problem-without-recursion/"
   ]
  },
  {
   "cell_type": "markdown",
   "metadata": {
    "id": "buNsAi39imMX"
   },
   "source": [
    "As we did in class, we will represent the board as a one-dimensional array where each position in the arrray is the n'th queen's column value. So if the array is: [1, 3, 0, 2], then the first queen is in position 1 (from 0--3), the second queen is in position 3 (the last column), the third queen is in the first column and the last queen is the in the second position."
   ]
  },
  {
   "cell_type": "code",
   "metadata": {
    "id": "uzr9G6qxiFz7"
   },
   "source": [
    "columns = [] #columns is the locations for each of the queens\n",
    "# columns[r] is a number c if a queen is placed at row r and column c.\n",
    "size = 4\n",
    "import random #hint -- you will need this for the following code: column=random.randrange(0,size)\n"
   ],
   "execution_count": 1,
   "outputs": []
  },
  {
   "cell_type": "markdown",
   "metadata": {
    "id": "3yiyZY21jX2A"
   },
   "source": [
    "Let's setup one iteration of the British Museum algorithm-- we'll put down 4 queens randomly."
   ]
  },
  {
   "cell_type": "code",
   "metadata": {
    "id": "wgHKLs7Rjc4t"
   },
   "source": [
    "def place_n_queens(size):\n",
    "    columns.clear()\n",
    "    row = 0\n",
    "    while row < size:\n",
    "        column=random.randrange(0,size)\n",
    "        columns.append(column)\n",
    "        row+=1"
   ],
   "execution_count": 2,
   "outputs": []
  },
  {
   "cell_type": "code",
   "metadata": {
    "id": "97X0rqn1HwcR"
   },
   "source": [
    "place_n_queens(size)"
   ],
   "execution_count": 3,
   "outputs": []
  },
  {
   "cell_type": "markdown",
   "metadata": {
    "id": "DMl5KM1mjg9Z"
   },
   "source": [
    "Now, we can print the result with a simple loop:"
   ]
  },
  {
   "cell_type": "code",
   "metadata": {
    "id": "ule48gb4jlDq"
   },
   "source": [
    "def display(board=columns):\n",
    "    for row in range(len(board)):\n",
    "        for column in range(size):\n",
    "            if column == board[row]:\n",
    "                print('♛', end=' ')\n",
    "            else:\n",
    "                print(' .', end=' ')\n",
    "        print()"
   ],
   "execution_count": 4,
   "outputs": []
  },
  {
   "cell_type": "code",
   "metadata": {
    "colab": {
     "base_uri": "https://localhost:8080/"
    },
    "id": "wlM5w9eCjwaB",
    "outputId": "d327cca4-8a70-4a30-f251-17f27105f576"
   },
   "source": [
    "place_n_queens(size)\n",
    "display()\n",
    "print(columns)"
   ],
   "execution_count": 5,
   "outputs": [
    {
     "name": "stdout",
     "output_type": "stream",
     "text": [
      " . ♛  .  . \n",
      " .  .  . ♛ \n",
      " .  . ♛  . \n",
      " . ♛  .  . \n",
      "[1, 3, 2, 1]\n"
     ]
    }
   ]
  },
  {
   "cell_type": "markdown",
   "metadata": {
    "id": "IkJ6-mkSkGoo"
   },
   "source": [
    "This of course is not necessary legal, so we'll write a simple DFS search with backtracking:"
   ]
  },
  {
   "cell_type": "code",
   "source": [
    "size=4\n",
    "columns= [random.randrange(0,size) for i in range(0,size)]\n",
    "print(columns)\n",
    "display()"
   ],
   "metadata": {
    "colab": {
     "base_uri": "https://localhost:8080/"
    },
    "id": "DmiXpOFfJgBc",
    "outputId": "5f78ad89-acde-4506-c11f-655abdf30d6b"
   },
   "execution_count": 6,
   "outputs": [
    {
     "name": "stdout",
     "output_type": "stream",
     "text": [
      "[2, 1, 3, 2]\n",
      " . ♛  .  . \n",
      " .  .  . ♛ \n",
      " .  . ♛  . \n",
      " . ♛  .  . \n"
     ]
    }
   ]
  },
  {
   "cell_type": "code",
   "metadata": {
    "id": "8KfrC2oCj-eN"
   },
   "source": [
    "def solve_queen_dfs(size,print_backtracking=False):\n",
    "    columns.clear()\n",
    "    number_of_moves = 0       # where do I change this so it counts the number of Queen moves?\n",
    "    number_of_iterations = 0  \n",
    "    row = 0 #TODO: Don't start from side. (see 1:51 in recording \"class 3\")\n",
    "    column = 0\n",
    "    # iterate over rows of board\n",
    "    while True:\n",
    "        #place queen in next row\n",
    "        #print(columns)\n",
    "        #print(\"I have \", row, \" number of queens put down\")\n",
    "        #display()\n",
    "        print(number_of_moves,\" Moves\")\n",
    "        while column < size:\n",
    "            number_of_iterations+=1\n",
    "            number_of_moves+=1\n",
    "            if next_row_is_safe(column):\n",
    "                place_in_next_row(column)\n",
    "                display()\n",
    "                row += 1\n",
    "                column = 0\n",
    "                break\n",
    "            else:\n",
    "                column += 1\n",
    "        # if I could not find an open column or if board is full\n",
    "        if (column == size or row == size):\n",
    "            number_of_iterations+=1\n",
    "            number_of_moves+=1\n",
    "\n",
    "            # if board is full, we have a solution\n",
    "            if row == size:\n",
    "                print(\"I did it! Here is my solution\")\n",
    "                display()\n",
    "                #print(number_of_moves)\n",
    "                return number_of_iterations, number_of_moves\n",
    "            # I couldn't find a solution so I now backtrack\n",
    "            prev_column = remove_in_current_row()\n",
    "            if print_backtracking:\n",
    "              print(\"Backtracking. Col\", prev_column,\" row\",row)\n",
    "              display()\n",
    "            if (prev_column == -1): #I backtracked past column 1\n",
    "                print(\"There are no solutions\")\n",
    "                #print(number_of_moves)\n",
    "                return number_of_iterations, number_of_moves\n",
    "            # try previous row again\n",
    "            row -= 1\n",
    "            # start checking at column = (1 + value of column in previous row)\n",
    "            column = 1 + prev_column \n"
   ],
   "execution_count": 7,
   "outputs": []
  },
  {
   "cell_type": "markdown",
   "metadata": {
    "id": "qPHBFqPikkEL"
   },
   "source": [
    "This code is nice, but it uses three functions:\n",
    "\n",
    "1. place_in_next_row\n",
    "\n",
    "2. remove_in_current_row\n",
    "\n",
    "3. next_row_is_safe\n",
    "\n",
    "That we now have to define\n",
    "\n"
   ]
  },
  {
   "cell_type": "code",
   "metadata": {
    "id": "2CvQuja7kyii"
   },
   "source": [
    "def place_in_next_row(column):\n",
    "    columns.append(column)\n",
    "\n",
    "def remove_in_current_row():\n",
    "    if len(columns) > 0:\n",
    "        return columns.pop()\n",
    "    return -1\n",
    " \n",
    "def next_row_is_safe(column):\n",
    "    row = len(columns) \n",
    "    # check column\n",
    "    for queen_column in columns:\n",
    "        if column == queen_column:\n",
    "            return False\n",
    " \n",
    "    # check diagonal\n",
    "    for queen_row, queen_column in enumerate(columns):\n",
    "        if queen_column - queen_row == column - row:\n",
    "            return False\n",
    " \n",
    "    # check other diagonal\n",
    "    for queen_row, queen_column in enumerate(columns):\n",
    "        if ((size - queen_column) - queen_row\n",
    "            == (size - column) - row):\n",
    "            return False\n",
    "    return True\n",
    " \n",
    "\n",
    "\n"
   ],
   "execution_count": 8,
   "outputs": []
  },
  {
   "cell_type": "code",
   "metadata": {
    "colab": {
     "base_uri": "https://localhost:8080/"
    },
    "id": "D7SgEJ6RVm1T",
    "outputId": "4eef092a-f6ac-4080-d168-40ea3220e63e"
   },
   "source": [
    "#size = int(input('Enter n: '))\n",
    "num_iterations=0\n",
    "number_moves = 0\n",
    "#for i in range(0, 100):\n",
    "#    columns = [] #columns is the locations for each of the queens\n",
    "num_iterations, number_moves=solve_queen_dfs(size)\n",
    "print(num_iterations)\n",
    "print(number_moves)\n",
    "print(columns)"
   ],
   "execution_count": 9,
   "outputs": [
    {
     "name": "stdout",
     "output_type": "stream",
     "text": [
      "0  Moves\n",
      " . ♛  .  . \n",
      " .  .  . ♛ \n",
      " .  . ♛  . \n",
      " . ♛  .  . \n",
      "1  Moves\n",
      " . ♛  .  . \n",
      " .  .  . ♛ \n",
      " .  . ♛  . \n",
      " . ♛  .  . \n",
      "4  Moves\n",
      "9  Moves\n",
      " . ♛  .  . \n",
      " .  .  . ♛ \n",
      " .  . ♛  . \n",
      " . ♛  .  . \n",
      "10  Moves\n",
      " . ♛  .  . \n",
      " .  .  . ♛ \n",
      " .  . ♛  . \n",
      " . ♛  .  . \n",
      "12  Moves\n",
      "17  Moves\n",
      "20  Moves\n",
      "21  Moves\n",
      " . ♛  .  . \n",
      " .  .  . ♛ \n",
      " .  . ♛  . \n",
      " . ♛  .  . \n",
      "22  Moves\n",
      " . ♛  .  . \n",
      " .  .  . ♛ \n",
      " .  . ♛  . \n",
      " . ♛  .  . \n",
      "26  Moves\n",
      " . ♛  .  . \n",
      " .  .  . ♛ \n",
      " .  . ♛  . \n",
      " . ♛  .  . \n",
      "27  Moves\n",
      " . ♛  .  . \n",
      " .  .  . ♛ \n",
      " .  . ♛  . \n",
      " . ♛  .  . \n",
      "I did it! Here is my solution\n",
      " . ♛  .  . \n",
      " .  .  . ♛ \n",
      " .  . ♛  . \n",
      " . ♛  .  . \n",
      "31\n",
      "31\n",
      "[1, 3, 0, 2]\n"
     ]
    }
   ]
  },
  {
   "cell_type": "markdown",
   "metadata": {
    "id": "ku6jHFBZQND-"
   },
   "source": [
    "\n",
    "Now what?  Can you implement the British Museum Algorithm?  How many moves and iterations did it take to solve the 4 queens problem?  \n",
    "\n",
    "How many moves/iterations did it take to solve the 8 queens (if at all)?"
   ]
  },
  {
   "cell_type": "code",
   "source": [
    "def col_is_valid(myRow):\n",
    "   myCol= columns[myRow]\n",
    "  #  print(\"myRow, myCol \",myRow, myCol)\n",
    "   # Check column\n",
    "   for row,col in enumerate(columns):\n",
    "     if col==myCol and row!=myRow:\n",
    "      #  print(\"Col hit (row,col)\", row, col)\n",
    "       return False\n",
    "  \n",
    "   # check diagonal\n",
    "   for queen_row, queen_column in enumerate(columns):\n",
    "    if queen_row==myRow:\n",
    "      #This is just me.\n",
    "      continue \n",
    "    elif (queen_column - queen_row) == (myCol-myRow):\n",
    "      # print(\"Diagonal hit(row,col)\", row, col)\n",
    "      # print(queen_column,queen_row,myCol,myRow)\n",
    "      # print((queen_column - queen_row), \"==\", (myCol-myRow))\n",
    "      return False\n",
    "\n",
    "   # check other diagonal\n",
    "   for queen_row, queen_column in enumerate(columns):\n",
    "    if queen_row==myRow:\n",
    "      #This is just me.\n",
    "      continue \n",
    "    elif ((size - queen_column) - queen_row\n",
    "          == (size - myCol) - myRow):\n",
    "          # print(\"Other Diagonal hit(row,col)\", row, col)\n",
    "          return False\n",
    "   return True\n",
    "\n",
    "def board_is_valid():\n",
    "  # for row,col in enumerate(columns):\n",
    "  #   print(row,col)\n",
    "  for i in range(0,size):\n",
    "    # print()\n",
    "    # print(\"I:\",i)\n",
    "    if not col_is_valid(i):\n",
    "      return False\n",
    "  return True\n",
    "\n",
    "board_is_valid()"
   ],
   "metadata": {
    "colab": {
     "base_uri": "https://localhost:8080/"
    },
    "id": "pRXt8eSeOElS",
    "outputId": "b591998c-349f-4bb6-dabc-5695f225784f"
   },
   "execution_count": 10,
   "outputs": [
    {
     "data": {
      "text/plain": "True"
     },
     "execution_count": 10,
     "metadata": {},
     "output_type": "execute_result"
    }
   ]
  },
  {
   "cell_type": "markdown",
   "source": [
    "\n",
    "\n",
    "```\n",
    " . ♛  .  .\n",
    " .  .  . ♛ \n",
    "♛  .  .  .\n",
    " .  . ♛  . \n",
    "```\n",
    "\n"
   ],
   "metadata": {
    "id": "wnoZe8fPVdw4"
   }
  },
  {
   "cell_type": "code",
   "source": [
    "for row,col in enumerate(columns):\n",
    "  print(row,col)"
   ],
   "metadata": {
    "colab": {
     "base_uri": "https://localhost:8080/"
    },
    "id": "d5BLagswXZXn",
    "outputId": "2de16569-16f2-4579-92f5-2b01e206ff6f"
   },
   "execution_count": 11,
   "outputs": [
    {
     "name": "stdout",
     "output_type": "stream",
     "text": [
      "0 1\n",
      "1 3\n",
      "2 0\n",
      "3 2\n"
     ]
    }
   ]
  },
  {
   "cell_type": "code",
   "source": [
    "  for row,col in enumerate(columns[0:(2-1)]+list()+columns[2:]):\n",
    "    print(row,col)"
   ],
   "metadata": {
    "colab": {
     "base_uri": "https://localhost:8080/"
    },
    "id": "bFHzQaelW1NZ",
    "outputId": "901349c6-9b4c-4109-ca78-5917d92d4dc0"
   },
   "execution_count": 12,
   "outputs": [
    {
     "name": "stdout",
     "output_type": "stream",
     "text": [
      "0 1\n",
      "1 0\n",
      "2 2\n"
     ]
    }
   ]
  },
  {
   "cell_type": "code",
   "source": [
    "solve_queen_dfs(4)"
   ],
   "metadata": {
    "colab": {
     "base_uri": "https://localhost:8080/"
    },
    "id": "cyk-2FqCO2kJ",
    "outputId": "f7dbe897-d747-493f-e407-cc8d2116a993"
   },
   "execution_count": 13,
   "outputs": [
    {
     "name": "stdout",
     "output_type": "stream",
     "text": [
      "0  Moves\n",
      " . ♛  .  . \n",
      " .  .  . ♛ \n",
      " .  . ♛  . \n",
      " . ♛  .  . \n",
      "1  Moves\n",
      " . ♛  .  . \n",
      " .  .  . ♛ \n",
      " .  . ♛  . \n",
      " . ♛  .  . \n",
      "4  Moves\n",
      "9  Moves\n",
      " . ♛  .  . \n",
      " .  .  . ♛ \n",
      " .  . ♛  . \n",
      " . ♛  .  . \n",
      "10  Moves\n",
      " . ♛  .  . \n",
      " .  .  . ♛ \n",
      " .  . ♛  . \n",
      " . ♛  .  . \n",
      "12  Moves\n",
      "17  Moves\n",
      "20  Moves\n",
      "21  Moves\n",
      " . ♛  .  . \n",
      " .  .  . ♛ \n",
      " .  . ♛  . \n",
      " . ♛  .  . \n",
      "22  Moves\n",
      " . ♛  .  . \n",
      " .  .  . ♛ \n",
      " .  . ♛  . \n",
      " . ♛  .  . \n",
      "26  Moves\n",
      " . ♛  .  . \n",
      " .  .  . ♛ \n",
      " .  . ♛  . \n",
      " . ♛  .  . \n",
      "27  Moves\n",
      " . ♛  .  . \n",
      " .  .  . ♛ \n",
      " .  . ♛  . \n",
      " . ♛  .  . \n",
      "I did it! Here is my solution\n",
      " . ♛  .  . \n",
      " .  .  . ♛ \n",
      " .  . ♛  . \n",
      " . ♛  .  . \n"
     ]
    },
    {
     "data": {
      "text/plain": "(31, 31)"
     },
     "execution_count": 13,
     "metadata": {},
     "output_type": "execute_result"
    }
   ]
  },
  {
   "cell_type": "code",
   "source": [
    "for i in range(0,size):\n",
    "  print(columns[i])"
   ],
   "metadata": {
    "colab": {
     "base_uri": "https://localhost:8080/"
    },
    "id": "9-Cl-pzUQ-BG",
    "outputId": "a4a8ce19-0944-4eff-bc16-d8ef1ca215f6"
   },
   "execution_count": 14,
   "outputs": [
    {
     "name": "stdout",
     "output_type": "stream",
     "text": [
      "1\n",
      "3\n",
      "0\n",
      "2\n"
     ]
    }
   ]
  },
  {
   "cell_type": "code",
   "source": [
    "display()\n",
    "board_is_valid()"
   ],
   "metadata": {
    "colab": {
     "base_uri": "https://localhost:8080/"
    },
    "id": "LZtAvfq7O5pQ",
    "outputId": "ea722449-e940-47e5-efe9-ef3dc770f9f2"
   },
   "execution_count": 15,
   "outputs": [
    {
     "name": "stdout",
     "output_type": "stream",
     "text": [
      " . ♛  .  . \n",
      " .  .  . ♛ \n",
      " .  . ♛  . \n",
      " . ♛  .  . \n"
     ]
    },
    {
     "data": {
      "text/plain": "True"
     },
     "execution_count": 15,
     "metadata": {},
     "output_type": "execute_result"
    }
   ]
  },
  {
   "cell_type": "code",
   "source": [],
   "metadata": {
    "id": "YwDduD24bIR0"
   },
   "execution_count": 15,
   "outputs": []
  },
  {
   "cell_type": "code",
   "source": [
    "def solve_queen_british_short(size):\n",
    "    columns.clear()\n",
    "    number_of_moves = 0       # where do I change this so it counts the number of Queen moves?\n",
    "    number_of_iterations = 1  \n",
    "    while True:\n",
    "      columns.clear()\n",
    "      row = 0\n",
    "      while row < size: # I just shortcircut rather than generating and then checking. Mostly to avoid having to write new Check methods.\n",
    "          if next_row_is_safe(row):\n",
    "            column=random.randrange(0,size)\n",
    "            columns.append(column)\n",
    "            row+=1\n",
    "          else:\n",
    "              number_of_iterations+=1\n",
    "              columns.clear()\n",
    "              row = 0\n",
    "      print(\"I did it! Here is my solution\")\n",
    "      display()\n",
    "      #print(number_of_moves)\n",
    "      return number_of_iterations, number_of_moves \n",
    "  \n",
    "def solve_queen_british(size):\n",
    "    columns.clear()\n",
    "    print(columns)\n",
    "    number_of_iterations = 1  \n",
    "    while True:\n",
    "      place_n_queens(size)\n",
    "      if board_is_valid():\n",
    "        print(\"I did it! Here is my solution\")\n",
    "        display()\n",
    "        number_of_moves=number_of_iterations*4\n",
    "        #print(number_of_moves)\n",
    "        return number_of_iterations, number_of_moves \n",
    "      else:\n",
    "          number_of_iterations+=1\n"
   ],
   "metadata": {
    "id": "Bgc7Sep2I0B4"
   },
   "execution_count": 16,
   "outputs": []
  },
  {
   "cell_type": "code",
   "source": [
    "place_n_queens(4)\n",
    "display()\n",
    "solve_queen_dfs(4)\n",
    "dfs_sol= columns"
   ],
   "metadata": {
    "colab": {
     "base_uri": "https://localhost:8080/"
    },
    "id": "P_BOJcLGapd_",
    "outputId": "3be59aa3-ef2b-43cd-ac97-9b21ec758069"
   },
   "execution_count": 17,
   "outputs": [
    {
     "name": "stdout",
     "output_type": "stream",
     "text": [
      " . ♛  .  . \n",
      " .  .  . ♛ \n",
      " .  . ♛  . \n",
      " . ♛  .  . \n",
      "0  Moves\n",
      " . ♛  .  . \n",
      " .  .  . ♛ \n",
      " .  . ♛  . \n",
      " . ♛  .  . \n",
      "1  Moves\n",
      " . ♛  .  . \n",
      " .  .  . ♛ \n",
      " .  . ♛  . \n",
      " . ♛  .  . \n",
      "4  Moves\n",
      "9  Moves\n",
      " . ♛  .  . \n",
      " .  .  . ♛ \n",
      " .  . ♛  . \n",
      " . ♛  .  . \n",
      "10  Moves\n",
      " . ♛  .  . \n",
      " .  .  . ♛ \n",
      " .  . ♛  . \n",
      " . ♛  .  . \n",
      "12  Moves\n",
      "17  Moves\n",
      "20  Moves\n",
      "21  Moves\n",
      " . ♛  .  . \n",
      " .  .  . ♛ \n",
      " .  . ♛  . \n",
      " . ♛  .  . \n",
      "22  Moves\n",
      " . ♛  .  . \n",
      " .  .  . ♛ \n",
      " .  . ♛  . \n",
      " . ♛  .  . \n",
      "26  Moves\n",
      " . ♛  .  . \n",
      " .  .  . ♛ \n",
      " .  . ♛  . \n",
      " . ♛  .  . \n",
      "27  Moves\n",
      " . ♛  .  . \n",
      " .  .  . ♛ \n",
      " .  . ♛  . \n",
      " . ♛  .  . \n",
      "I did it! Here is my solution\n",
      " . ♛  .  . \n",
      " .  .  . ♛ \n",
      " .  . ♛  . \n",
      " . ♛  .  . \n"
     ]
    }
   ]
  },
  {
   "cell_type": "code",
   "source": [
    "columns=dfs_sol\n",
    "display()\n",
    "print(number_of_iterations)\n",
    "number_of_iterations, number_of_moves = solve_queen_british(4)\n",
    "print(number_of_iterations)\n",
    "display()\n",
    "if columns!= dfs_sol and columns!=sol2:\n",
    "  print(\"YAY\")"
   ],
   "metadata": {
    "colab": {
     "base_uri": "https://localhost:8080/",
     "height": 300
    },
    "id": "DPPthfyAMQy6",
    "outputId": "1c751c39-d3a6-4cac-9bb9-ec4c62fcdf88"
   },
   "execution_count": 18,
   "outputs": [
    {
     "name": "stdout",
     "output_type": "stream",
     "text": [
      " . ♛  .  . \n",
      " .  .  . ♛ \n",
      " .  . ♛  . \n",
      " . ♛  .  . \n"
     ]
    },
    {
     "ename": "NameError",
     "evalue": "name 'number_of_iterations' is not defined",
     "output_type": "error",
     "traceback": [
      "\u001B[0;31m---------------------------------------------------------------------------\u001B[0m",
      "\u001B[0;31mNameError\u001B[0m                                 Traceback (most recent call last)",
      "Cell \u001B[0;32mIn [18], line 3\u001B[0m\n\u001B[1;32m      1\u001B[0m columns\u001B[38;5;241m=\u001B[39mdfs_sol\n\u001B[1;32m      2\u001B[0m display()\n\u001B[0;32m----> 3\u001B[0m \u001B[38;5;28mprint\u001B[39m(\u001B[43mnumber_of_iterations\u001B[49m)\n\u001B[1;32m      4\u001B[0m number_of_iterations, number_of_moves \u001B[38;5;241m=\u001B[39m solve_queen_british(\u001B[38;5;241m4\u001B[39m)\n\u001B[1;32m      5\u001B[0m \u001B[38;5;28mprint\u001B[39m(number_of_iterations)\n",
      "\u001B[0;31mNameError\u001B[0m: name 'number_of_iterations' is not defined"
     ]
    }
   ]
  },
  {
   "cell_type": "code",
   "source": [
    "sol2= columns"
   ],
   "metadata": {
    "id": "t8VVGsIFdRTE"
   },
   "execution_count": null,
   "outputs": []
  },
  {
   "cell_type": "code",
   "source": [
    "place_n_queens(4)\n",
    "display()"
   ],
   "metadata": {
    "colab": {
     "base_uri": "https://localhost:8080/"
    },
    "id": "QbhaocEpZ7RX",
    "outputId": "cbf215ff-2ed7-4304-d695-8fe233e1ce27"
   },
   "execution_count": 19,
   "outputs": [
    {
     "name": "stdout",
     "output_type": "stream",
     "text": [
      " . ♛  .  . \n",
      " .  .  . ♛ \n",
      " .  . ♛  . \n",
      " . ♛  .  . \n"
     ]
    }
   ]
  },
  {
   "cell_type": "code",
   "source": [
    "count=0\n",
    "result=False\n",
    "while result==False:\n",
    "  count+=1\n",
    "  result=solve_queen_british(4)\n",
    "  if count >100:\n",
    "    print(\"All 100 failed\")\n",
    "    break"
   ],
   "metadata": {
    "colab": {
     "base_uri": "https://localhost:8080/"
    },
    "id": "y6PX7QS3BJka",
    "outputId": "ac6895a3-3069-4ccf-bfd6-c529a9fad2a4"
   },
   "execution_count": 20,
   "outputs": [
    {
     "name": "stdout",
     "output_type": "stream",
     "text": [
      "[]\n",
      "I did it! Here is my solution\n",
      " . ♛  .  . \n",
      " .  .  . ♛ \n",
      " .  . ♛  . \n",
      " . ♛  .  . \n"
     ]
    }
   ]
  },
  {
   "cell_type": "markdown",
   "source": [
    "\n",
    "\n",
    "---\n",
    "\n",
    "# 3. Heuristic Repair\n",
    "\"Can be just like we discussed in class (with random initial placement) or not (only putting down one queen and then doing DFS). Check what works for you!\"\n"
   ],
   "metadata": {
    "id": "iQV9GPD2CsHF"
   }
  },
  {
   "cell_type": "code",
   "source": [
    "# First we need a heuristic-- Perhaps, number of conflicts.\n",
    "def conflicts(board=columns,debug=False):\n",
    "  conflict_counter=0\n",
    "  if debug:\n",
    "    print(\"row,col\")\n",
    "  for myRow,myCol in enumerate(board):\n",
    "    for row,col in enumerate(board):\n",
    "      if row==myRow and col==myCol:\n",
    "        continue\n",
    "      else:\n",
    "        if col==myCol:\n",
    "          conflict_counter+=1\n",
    "          if debug:\n",
    "            print(\"Col hit\",myRow,myCol,\"*\",row,col)\n",
    "        if (col - row) == (myCol-myRow):\n",
    "          conflict_counter+=1\n",
    "          if debug:\n",
    "            print(\"Diag1 hit\",myRow,myCol,\"*\",row,col)\n",
    "        if ((size - col) - row == (size - myCol) - myRow):\n",
    "          conflict_counter+=1\n",
    "          if debug:\n",
    "            print(\"Diag2 hit\",myRow,myCol,\"*\",row,col)\n",
    "  return conflict_counter"
   ],
   "metadata": {
    "id": "R6eAF04eC5zQ"
   },
   "execution_count": 21,
   "outputs": []
  },
  {
   "cell_type": "code",
   "source": [
    "display()\n",
    "print(columns)"
   ],
   "metadata": {
    "colab": {
     "base_uri": "https://localhost:8080/"
    },
    "id": "9CUSc59rW5Hv",
    "outputId": "cbd6007e-049c-474a-adff-50dbb17ba2ef"
   },
   "execution_count": 26,
   "outputs": [
    {
     "name": "stdout",
     "output_type": "stream",
     "text": [
      " . ♛  .  . \n",
      " .  .  . ♛ \n",
      " .  . ♛  . \n",
      " . ♛  .  . \n",
      "[2, 0, 3, 1]\n"
     ]
    }
   ]
  },
  {
   "cell_type": "code",
   "source": [
    "print(conflicts())"
   ],
   "metadata": {
    "colab": {
     "base_uri": "https://localhost:8080/"
    },
    "id": "4pEIGFeLWEda",
    "outputId": "8e17f95b-8404-4f6b-c946-f2542f345c9e"
   },
   "execution_count": 25,
   "outputs": [
    {
     "name": "stdout",
     "output_type": "stream",
     "text": [
      "0\n"
     ]
    }
   ]
  },
  {
   "cell_type": "code",
   "source": [
    "columns= dfs_sol\n",
    "display()\n",
    "print(columns)\n",
    "print(conflicts(True))"
   ],
   "metadata": {
    "colab": {
     "base_uri": "https://localhost:8080/"
    },
    "id": "UPHTq0OLX_xD",
    "outputId": "03c4bf67-32a2-49cf-85e4-eafd99a68d87"
   },
   "execution_count": 24,
   "outputs": [
    {
     "name": "stdout",
     "output_type": "stream",
     "text": [
      " . ♛  .  . \n",
      " .  .  . ♛ \n",
      " .  . ♛  . \n",
      " . ♛  .  . \n",
      "[2, 0, 3, 1]\n"
     ]
    },
    {
     "ename": "TypeError",
     "evalue": "'bool' object is not iterable",
     "output_type": "error",
     "traceback": [
      "\u001B[0;31m---------------------------------------------------------------------------\u001B[0m",
      "\u001B[0;31mTypeError\u001B[0m                                 Traceback (most recent call last)",
      "Cell \u001B[0;32mIn [24], line 4\u001B[0m\n\u001B[1;32m      2\u001B[0m display()\n\u001B[1;32m      3\u001B[0m \u001B[38;5;28mprint\u001B[39m(columns)\n\u001B[0;32m----> 4\u001B[0m \u001B[38;5;28mprint\u001B[39m(\u001B[43mconflicts\u001B[49m\u001B[43m(\u001B[49m\u001B[38;5;28;43;01mTrue\u001B[39;49;00m\u001B[43m)\u001B[49m)\n",
      "Cell \u001B[0;32mIn [21], line 6\u001B[0m, in \u001B[0;36mconflicts\u001B[0;34m(board, debug)\u001B[0m\n\u001B[1;32m      4\u001B[0m \u001B[38;5;28;01mif\u001B[39;00m debug:\n\u001B[1;32m      5\u001B[0m   \u001B[38;5;28mprint\u001B[39m(\u001B[38;5;124m\"\u001B[39m\u001B[38;5;124mrow,col\u001B[39m\u001B[38;5;124m\"\u001B[39m)\n\u001B[0;32m----> 6\u001B[0m \u001B[38;5;28;01mfor\u001B[39;00m myRow,myCol \u001B[38;5;129;01min\u001B[39;00m \u001B[38;5;28;43menumerate\u001B[39;49m\u001B[43m(\u001B[49m\u001B[43mboard\u001B[49m\u001B[43m)\u001B[49m:\n\u001B[1;32m      7\u001B[0m   \u001B[38;5;28;01mfor\u001B[39;00m row,col \u001B[38;5;129;01min\u001B[39;00m \u001B[38;5;28menumerate\u001B[39m(board):\n\u001B[1;32m      8\u001B[0m     \u001B[38;5;28;01mif\u001B[39;00m row\u001B[38;5;241m==\u001B[39mmyRow \u001B[38;5;129;01mand\u001B[39;00m col\u001B[38;5;241m==\u001B[39mmyCol:\n",
      "\u001B[0;31mTypeError\u001B[0m: 'bool' object is not iterable"
     ]
    }
   ]
  },
  {
   "cell_type": "code",
   "source": [
    "place_n_queens(4)\n",
    "display()\n",
    "print(columns)\n",
    "print(conflicts(True))"
   ],
   "metadata": {
    "colab": {
     "base_uri": "https://localhost:8080/"
    },
    "id": "X2zCOTWWdIKh",
    "outputId": "eaa0be2f-a4fa-4588-e51e-374cbf5cad62"
   },
   "execution_count": 27,
   "outputs": [
    {
     "name": "stdout",
     "output_type": "stream",
     "text": [
      " . ♛  .  . \n",
      " .  .  . ♛ \n",
      " .  . ♛  . \n",
      " . ♛  .  . \n",
      "[1, 2, 1, 3]\n"
     ]
    },
    {
     "ename": "TypeError",
     "evalue": "'bool' object is not iterable",
     "output_type": "error",
     "traceback": [
      "\u001B[0;31m---------------------------------------------------------------------------\u001B[0m",
      "\u001B[0;31mTypeError\u001B[0m                                 Traceback (most recent call last)",
      "Cell \u001B[0;32mIn [27], line 4\u001B[0m\n\u001B[1;32m      2\u001B[0m display()\n\u001B[1;32m      3\u001B[0m \u001B[38;5;28mprint\u001B[39m(columns)\n\u001B[0;32m----> 4\u001B[0m \u001B[38;5;28mprint\u001B[39m(\u001B[43mconflicts\u001B[49m\u001B[43m(\u001B[49m\u001B[38;5;28;43;01mTrue\u001B[39;49;00m\u001B[43m)\u001B[49m)\n",
      "Cell \u001B[0;32mIn [21], line 6\u001B[0m, in \u001B[0;36mconflicts\u001B[0;34m(board, debug)\u001B[0m\n\u001B[1;32m      4\u001B[0m \u001B[38;5;28;01mif\u001B[39;00m debug:\n\u001B[1;32m      5\u001B[0m   \u001B[38;5;28mprint\u001B[39m(\u001B[38;5;124m\"\u001B[39m\u001B[38;5;124mrow,col\u001B[39m\u001B[38;5;124m\"\u001B[39m)\n\u001B[0;32m----> 6\u001B[0m \u001B[38;5;28;01mfor\u001B[39;00m myRow,myCol \u001B[38;5;129;01min\u001B[39;00m \u001B[38;5;28;43menumerate\u001B[39;49m\u001B[43m(\u001B[49m\u001B[43mboard\u001B[49m\u001B[43m)\u001B[49m:\n\u001B[1;32m      7\u001B[0m   \u001B[38;5;28;01mfor\u001B[39;00m row,col \u001B[38;5;129;01min\u001B[39;00m \u001B[38;5;28menumerate\u001B[39m(board):\n\u001B[1;32m      8\u001B[0m     \u001B[38;5;28;01mif\u001B[39;00m row\u001B[38;5;241m==\u001B[39mmyRow \u001B[38;5;129;01mand\u001B[39;00m col\u001B[38;5;241m==\u001B[39mmyCol:\n",
      "\u001B[0;31mTypeError\u001B[0m: 'bool' object is not iterable"
     ]
    }
   ]
  },
  {
   "cell_type": "code",
   "source": [
    "solve_queen_british(4)\n",
    "# display()\n",
    "print(columns)\n",
    "print(conflicts(True))"
   ],
   "metadata": {
    "colab": {
     "base_uri": "https://localhost:8080/"
    },
    "id": "wMnuXM_nd5wD",
    "outputId": "7c2e4de2-1322-4033-d569-e8d84dedb18a"
   },
   "execution_count": null,
   "outputs": []
  },
  {
   "cell_type": "code",
   "source": [
    "def lst_conflicts(debug=False):\n",
    "  conflict_counters=[]\n",
    "  if debug:\n",
    "    print(\"row,col\")\n",
    "  for myRow,myCol in enumerate(columns):\n",
    "    conflict_counter=0\n",
    "    for row,col in enumerate(columns):\n",
    "      if row==myRow and col==myCol:\n",
    "        continue\n",
    "      else:\n",
    "        if col==myCol:\n",
    "          conflict_counter+=1\n",
    "          if debug:\n",
    "            print(\"Col hit\",myRow,myCol,\"*\",row,col)\n",
    "        if (col - row) == (myCol-myRow):\n",
    "          conflict_counter+=1\n",
    "          if debug:\n",
    "            print(\"Diag1 hit\",myRow,myCol,\"*\",row,col)\n",
    "        if ((size - col) - row == (size - myCol) - myRow):\n",
    "          conflict_counter+=1\n",
    "          if debug:\n",
    "            print(\"Diag2 hit\",myRow,myCol,\"*\",row,col)\n",
    "    conflict_counters.append(conflict_counter)\n",
    "  return conflict_counters"
   ],
   "metadata": {
    "id": "1yr2E4DDeT_q"
   },
   "execution_count": null,
   "outputs": []
  },
  {
   "cell_type": "code",
   "source": [
    "place_n_queens(4)\n",
    "print(columns)\n",
    "display()\n",
    "print(lst_conflicts(columns))\n",
    "hits= lst_conflicts()\n",
    "print(\"max index: \",hits.index(max(hits)),\"max\", max(lst_conflicts()))"
   ],
   "metadata": {
    "colab": {
     "base_uri": "https://localhost:8080/"
    },
    "id": "CiqK2mxtkkb8",
    "outputId": "5533d08c-eb45-4b15-d371-db3c0603a309"
   },
   "execution_count": null,
   "outputs": []
  },
  {
   "cell_type": "code",
   "source": [
    "# Start with random arrangement, and replace the worst offender based on global hits.\n",
    "def solve_repair(size,limit=100,debug=False):\n",
    "  original_board= columns.copy()\n",
    "  number_of_iterations=0 \n",
    "  number_of_moves=0\n",
    "  place_n_queens(size)\n",
    "  print(\"Initial board\")\n",
    "  display()\n",
    "  print(\"hits\",conflicts())\n",
    "  stuck=False\n",
    "  for iter in range(0,limit):\n",
    "    number_of_iterations+=1\n",
    "    if board_is_valid():\n",
    "      print(\"I did it! Here is my solution\")\n",
    "      display()\n",
    "      return number_of_iterations, number_of_moves \n",
    "    else:\n",
    "      hits= lst_conflicts()\n",
    "      if stuck:\n",
    "        row= random.randrange(0,size)\n",
    "      else:\n",
    "        row=hits.index(max(hits))\n",
    "      col=columns[row]\n",
    "      best= hits[row]\n",
    "      new_board= columns.copy()\n",
    "      new_col= col\n",
    "      for i in range(0,size):\n",
    "        new_board[row]=i\n",
    "\n",
    "        val= conflicts(new_board)\n",
    "        if debug:\n",
    "            print(\"-----------\",stuck)\n",
    "            display(new_board)\n",
    "            print(\">\",val)\n",
    "        if val<=best:\n",
    "          best=val\n",
    "          new_col=i\n",
    "      if new_col==col:\n",
    "        # if stuck and random.randrange(0,100)==25:\n",
    "        #   place_n_queens(size)\n",
    "        #   print(\"reshuffle\")\n",
    "        # else:\n",
    "            stuck=True\n",
    "      else:\n",
    "        number_of_moves+=1\n",
    "        stuck=False\n",
    "        if debug:\n",
    "            print(\"(\",row,\",\",col,\")->\",row,\"(\",row,\",\",new_col,\")\")\n",
    "        columns[row]=new_col\n",
    "  if original_board==columns:\n",
    "    print(\"No changes made\")\n",
    "  print(\"Failed at finding solution\")\n",
    "  display()\n",
    "  print(\"hits\",conflicts())\n",
    "  return number_of_iterations, number_of_moves"
   ],
   "metadata": {
    "id": "qnfNeuVNe7vX"
   },
   "execution_count": null,
   "outputs": []
  },
  {
   "cell_type": "code",
   "source": [
    "print(solve_repair(8,1600))"
   ],
   "metadata": {
    "colab": {
     "base_uri": "https://localhost:8080/"
    },
    "id": "RMK7L_rsqVq8",
    "outputId": "ab45cb85-14a1-400c-ab1c-96bb25e9b9e4"
   },
   "execution_count": null,
   "outputs": []
  },
  {
   "cell_type": "code",
   "execution_count": null,
   "outputs": [],
   "source": [
    "solve_queen_dfs(8)"
   ],
   "metadata": {
    "collapsed": false
   }
  },
  {
   "cell_type": "markdown",
   "source": [
    "Ok. need to change what I'm checking. Lets try what was actually mentioned in the slides.\n",
    "Write a method to give number of possible spots for a given row, given a board"
   ],
   "metadata": {
    "collapsed": false
   }
  },
  {
   "cell_type": "code",
   "execution_count": null,
   "outputs": [],
   "source": [
    "def potential_cols(row):\n",
    "    available_cols=[]\n",
    "    available=True\n",
    "    # check column\n",
    "    for column in range(0,size):\n",
    "        for queen_column in columns:\n",
    "            if queen_column==-1:\n",
    "                continue\n",
    "            elif column == queen_column:\n",
    "                available= False\n",
    "        # check diagonal\n",
    "        for queen_row, queen_column in enumerate(columns):\n",
    "            if queen_column==-1:\n",
    "                continue\n",
    "            elif queen_column - queen_row == column - row:\n",
    "                available= False\n",
    "\n",
    "        # check other diagonal\n",
    "        for queen_row, queen_column in enumerate(columns):\n",
    "            if queen_column==-1:\n",
    "                continue\n",
    "            elif ((size - queen_column) - queen_row == (size - column) - row):\n",
    "                available= False\n",
    "        if available:\n",
    "            available_cols.append(column)\n",
    "    return available_cols"
   ],
   "metadata": {
    "collapsed": false
   }
  },
  {
   "cell_type": "code",
   "execution_count": 29,
   "outputs": [],
   "source": [
    "def empty_board():\n",
    "    columns.clear()\n",
    "    print(columns)\n",
    "    for i in range(0,size):\n",
    "        columns.append(-1)"
   ],
   "metadata": {
    "collapsed": false
   }
  },
  {
   "cell_type": "code",
   "execution_count": 31,
   "outputs": [
    {
     "name": "stdout",
     "output_type": "stream",
     "text": [
      "[]\n",
      "[-1, 4, -1, -1, -1, -1, -1, -1]\n",
      " . ♛  .  .  .  .  .  . \n",
      " .  .  . ♛  .  .  .  . \n",
      " .  . ♛  .  .  .  .  . \n",
      " . ♛  .  .  .  .  .  . \n"
     ]
    },
    {
     "ename": "NameError",
     "evalue": "name 'potential_cols' is not defined",
     "output_type": "error",
     "traceback": [
      "\u001B[0;31m---------------------------------------------------------------------------\u001B[0m",
      "\u001B[0;31mNameError\u001B[0m                                 Traceback (most recent call last)",
      "Cell \u001B[0;32mIn [31], line 7\u001B[0m\n\u001B[1;32m      5\u001B[0m display()\n\u001B[1;32m      6\u001B[0m \u001B[38;5;28;01mfor\u001B[39;00m i \u001B[38;5;129;01min\u001B[39;00m \u001B[38;5;28mrange\u001B[39m(\u001B[38;5;241m0\u001B[39m,size):\n\u001B[0;32m----> 7\u001B[0m     \u001B[38;5;28mprint\u001B[39m(\u001B[43mpotential_cols\u001B[49m(i))\n",
      "\u001B[0;31mNameError\u001B[0m: name 'potential_cols' is not defined"
     ]
    }
   ],
   "source": [
    "size=8\n",
    "empty_board()\n",
    "columns[1]=random.randrange(0,size)\n",
    "print(columns)\n",
    "display()\n",
    "for i in range(0,size):\n",
    "    print(potential_cols(i))\n"
   ],
   "metadata": {
    "collapsed": false
   }
  },
  {
   "cell_type": "code",
   "execution_count": null,
   "outputs": [],
   "source": [],
   "metadata": {
    "collapsed": false
   }
  },
  {
   "cell_type": "markdown",
   "source": [
    "# 4. Forward Checking\n"
   ],
   "metadata": {
    "id": "iHN-qxCOKMTg"
   }
  },
  {
   "cell_type": "code",
   "execution_count": null,
   "outputs": [],
   "source": [],
   "metadata": {
    "collapsed": false
   }
  },
  {
   "cell_type": "markdown",
   "source": [
    "TODO:\n",
    "* For each of the four implementations, run your code 100 times keeping track of the above statistics. \n",
    "  * Calculate the average, \n",
    "  * minimum, \n",
    "  * and maximum \n",
    "  * for each of the four implementations and record their values.\n",
    "* Try out your code for n-queens with larger values of n (say, 100-queens). Do your algorithms succeed in finding a solution?\n",
    "\n",
    "\n",
    "20 points – providing a working solution for the both the updated backtracking, stochastic and British Museum algorithms.\n",
    "\n",
    "20 points – documentation of logic used \n",
    "\n",
    "60 points – how well your code works Submission: via Git as usual."
   ],
   "metadata": {
    "id": "-MZAABn_DBz9"
   }
  }
 ]
}
