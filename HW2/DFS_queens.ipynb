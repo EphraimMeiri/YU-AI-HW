{
 "nbformat": 4,
 "nbformat_minor": 0,
 "metadata": {
  "colab": {
   "provenance": [],
   "collapsed_sections": []
  },
  "kernelspec": {
   "name": "python3",
   "display_name": "Python 3"
  }
 },
 "cells": [
  {
   "cell_type": "markdown",
   "metadata": {
    "id": "KYYQSRC3iZwd"
   },
   "source": [
    "This is the notebook version of the code. I will use this to explain the homework.  I used parts of the code from: https://www.sanfoundry.com/python-program-solve-n-queen-problem-without-recursion/"
   ]
  },
  {
   "cell_type": "markdown",
   "metadata": {
    "id": "buNsAi39imMX"
   },
   "source": [
    "As we did in class, we will represent the board as a one-dimensional array where each position in the arrray is the n'th queen's column value. So if the array is: [1, 3, 0, 2], then the first queen is in position 1 (from 0--3), the second queen is in position 3 (the last column), the third queen is in the first column and the last queen is the in the second position."
   ]
  },
  {
   "cell_type": "code",
   "metadata": {
    "id": "uzr9G6qxiFz7"
   },
   "source": [
    "columns = [] #columns is the locations for each of the queens\n",
    "# columns[r] is a number c if a queen is placed at row r and column c.\n",
    "size = 4\n",
    "import random #hint -- you will need this for the following code: column=random.randrange(0,size)\n"
   ],
   "execution_count": 1,
   "outputs": []
  },
  {
   "cell_type": "markdown",
   "metadata": {
    "id": "3yiyZY21jX2A"
   },
   "source": [
    "Let's setup one iteration of the British Museum algorithm-- we'll put down 4 queens randomly."
   ]
  },
  {
   "cell_type": "code",
   "metadata": {
    "id": "wgHKLs7Rjc4t"
   },
   "source": [
    "def place_n_queens(size):\n",
    "    columns.clear()\n",
    "    row = 0\n",
    "    while row < size:\n",
    "        column=random.randrange(0,size)\n",
    "        columns.append(column)\n",
    "        row+=1"
   ],
   "execution_count": 2,
   "outputs": []
  },
  {
   "cell_type": "code",
   "metadata": {
    "id": "97X0rqn1HwcR"
   },
   "source": [
    "place_n_queens(size)"
   ],
   "execution_count": 3,
   "outputs": []
  },
  {
   "cell_type": "markdown",
   "metadata": {
    "id": "DMl5KM1mjg9Z"
   },
   "source": [
    "Now, we can print the result with a simple loop:"
   ]
  },
  {
   "cell_type": "code",
   "metadata": {
    "id": "ule48gb4jlDq"
   },
   "source": [
    "def display():\n",
    "    for row in range(len(columns)):\n",
    "        for column in range(size):\n",
    "            if column == columns[row]:\n",
    "                print('♛', end=' ')\n",
    "            else:\n",
    "                print(' .', end=' ')\n",
    "        print()"
   ],
   "execution_count": 4,
   "outputs": []
  },
  {
   "cell_type": "code",
   "metadata": {
    "colab": {
     "base_uri": "https://localhost:8080/"
    },
    "id": "wlM5w9eCjwaB",
    "outputId": "dd2a91d3-7127-4e8a-c739-5493c808c2ea"
   },
   "source": [
    "place_n_queens(size)\n",
    "display()\n",
    "print(columns)"
   ],
   "execution_count": 5,
   "outputs": [
    {
     "name": "stdout",
     "output_type": "stream",
     "text": [
      "♛  .  .  . \n",
      " .  .  . ♛ \n",
      " .  . ♛  . \n",
      " .  . ♛  . \n",
      "[0, 3, 2, 2]\n"
     ]
    }
   ]
  },
  {
   "cell_type": "markdown",
   "metadata": {
    "id": "IkJ6-mkSkGoo"
   },
   "source": [
    "This of course is not necessary legal, so we'll write a simple DFS search with backtracking:"
   ]
  },
  {
   "cell_type": "code",
   "metadata": {
    "id": "8KfrC2oCj-eN"
   },
   "source": [
    "def solve_queen(size):\n",
    "    columns.clear()\n",
    "    number_of_moves = 0 #where do I change this so it counts the number of Queen moves?\n",
    "    number_of_iterations = 0  \n",
    "    row = 0\n",
    "    column = 0\n",
    "    # iterate over rows of board\n",
    "    while True:\n",
    "        #place queen in next row\n",
    "        #print(columns)\n",
    "        #print(\"I have \", row, \" number of queens put down\")\n",
    "        #display()\n",
    "        print(number_of_moves)\n",
    "        while column < size:\n",
    "            number_of_iterations+=1\n",
    "            if next_row_is_safe(column):\n",
    "                place_in_next_row(column)\n",
    "                row += 1\n",
    "                column = 0\n",
    "                break\n",
    "            else:\n",
    "                column += 1\n",
    "        # if I could not find an open column or if board is full\n",
    "        if (column == size or row == size):\n",
    "            number_of_iterations+=1\n",
    "            # if board is full, we have a solution\n",
    "            if row == size:\n",
    "                print(\"I did it! Here is my solution\")\n",
    "                display()\n",
    "                #print(number_of_moves)\n",
    "                return number_of_iterations, number_of_moves\n",
    "            # I couldn't find a solution so I now backtrack\n",
    "            prev_column = remove_in_current_row()\n",
    "            if (prev_column == -1): #I backtracked past column 1\n",
    "                print(\"There are no solutions\")\n",
    "                #print(number_of_moves)\n",
    "                return number_of_iterations, number_of_moves\n",
    "            # try previous row again\n",
    "            row -= 1\n",
    "            # start checking at column = (1 + value of column in previous row)\n",
    "            column = 1 + prev_column \n"
   ],
   "execution_count": 6,
   "outputs": []
  },
  {
   "cell_type": "markdown",
   "metadata": {
    "id": "qPHBFqPikkEL"
   },
   "source": [
    "This code is nice, but it uses three functions:\n",
    "\n",
    "1. place_in_next_row\n",
    "\n",
    "2. remove_in_current_row\n",
    "\n",
    "3. next_row_is_safe\n",
    "\n",
    "That we now have to define\n",
    "\n"
   ]
  },
  {
   "cell_type": "code",
   "metadata": {
    "id": "2CvQuja7kyii"
   },
   "source": [
    "def place_in_next_row(column):\n",
    "    columns.append(column)\n",
    " \n",
    "def remove_in_current_row():\n",
    "    if len(columns) > 0:\n",
    "        return columns.pop()\n",
    "    return -1\n",
    " \n",
    "def next_row_is_safe(column):\n",
    "    row = len(columns) \n",
    "    # check column\n",
    "    for queen_column in columns:\n",
    "        if column == queen_column:\n",
    "            return False\n",
    " \n",
    "    # check diagonal\n",
    "    for queen_row, queen_column in enumerate(columns):\n",
    "        if queen_column - queen_row == column - row:\n",
    "            return False\n",
    " \n",
    "    # check other diagonal\n",
    "    for queen_row, queen_column in enumerate(columns):\n",
    "        if ((size - queen_column) - queen_row\n",
    "            == (size - column) - row):\n",
    "            return False\n",
    "    return True\n",
    " "
   ],
   "execution_count": 7,
   "outputs": []
  },
  {
   "cell_type": "code",
   "metadata": {
    "colab": {
     "base_uri": "https://localhost:8080/"
    },
    "id": "D7SgEJ6RVm1T",
    "outputId": "a4ce5832-a658-4766-f025-8bdabdec908d"
   },
   "source": [
    "#size = int(input('Enter n: '))\n",
    "num_iterations=0\n",
    "number_moves = 0\n",
    "#for i in range(0, 100):\n",
    "#    columns = [] #columns is the locations for each of the queens\n",
    "num_iterations, number_moves=solve_queen(size)\n",
    "print(num_iterations)\n",
    "print(number_moves)\n",
    "print(columns)"
   ],
   "execution_count": 8,
   "outputs": [
    {
     "name": "stdout",
     "output_type": "stream",
     "text": [
      "0\n",
      "0\n",
      "0\n",
      "0\n",
      "0\n",
      "0\n",
      "0\n",
      "0\n",
      "0\n",
      "0\n",
      "0\n",
      "0\n",
      "I did it! Here is my solution\n",
      " . ♛  .  . \n",
      " .  .  . ♛ \n",
      "♛  .  .  . \n",
      " .  . ♛  . \n",
      "31\n",
      "0\n",
      "[1, 3, 0, 2]\n"
     ]
    }
   ]
  },
  {
   "cell_type": "markdown",
   "metadata": {
    "id": "ku6jHFBZQND-"
   },
   "source": [
    "Now what?  Can you implement the British Museum Algorithm?  How many moves and iterations did it take to solve the 4 queens problem?  \n",
    "\n",
    "How many moves/iterations did it take to solve the 8 queens (if at all)?"
   ]
  },
  {
   "cell_type": "code",
   "execution_count": null,
   "outputs": [],
   "source": [],
   "metadata": {
    "collapsed": false
   }
  },
  {
   "cell_type": "markdown",
   "source": [
    "---\n",
    "# British Museum\n",
    "We reset the board so long as we have not landed on a correct one."
   ],
   "metadata": {
    "collapsed": false
   }
  },
  {
   "cell_type": "code",
   "execution_count": 9,
   "outputs": [],
   "source": [
    "def col_is_valid(myRow):\n",
    "   myCol= columns[myRow]\n",
    "   # Check column\n",
    "   for row,col in enumerate(columns):\n",
    "     if col==myCol and row!=myRow:\n",
    "      #  print(\"Col hit (row,col)\", row, col)\n",
    "       return False\n",
    "\n",
    "   # check diagonal\n",
    "   for queen_row, queen_column in enumerate(columns):\n",
    "    if queen_row==myRow:\n",
    "      continue #This is just me.\n",
    "    elif (queen_column - queen_row) == (myCol-myRow):\n",
    "      # print(\"Diagonal hit(row,col)\", row, col)\n",
    "      # print(queen_column,queen_row,myCol,myRow)\n",
    "      # print((queen_column - queen_row), \"==\", (myCol-myRow))\n",
    "      return False\n",
    "\n",
    "   # check other diagonal\n",
    "   for queen_row, queen_column in enumerate(columns):\n",
    "    if queen_row==myRow:\n",
    "      continue      #This is just me.\n",
    "    elif ((size - queen_column) - queen_row\n",
    "          == (size - myCol) - myRow):\n",
    "          # print(\"Other Diagonal hit(row,col)\", row, col)\n",
    "          return False\n",
    "   return True\n",
    "\n",
    "def board_is_valid():\n",
    "  # for row,col in enumerate(columns):\n",
    "  #   print(row,col)\n",
    "  for i in range(0,size):\n",
    "    # print()\n",
    "    # print(\"I:\",i)\n",
    "    if not col_is_valid(i):\n",
    "      return False\n",
    "  return True\n"
   ],
   "metadata": {
    "collapsed": false
   }
  },
  {
   "cell_type": "code",
   "execution_count": 25,
   "outputs": [],
   "source": [
    "def solve_queen_british(size):\n",
    "    columns.clear()\n",
    "    print(columns)\n",
    "    number_of_iterations = 1\n",
    "    while True:\n",
    "      place_n_queens(size)\n",
    "      if board_is_valid():\n",
    "        print(\"I did it! Here is my solution\")\n",
    "        display()\n",
    "        print(columns)\n",
    "        number_of_moves=number_of_iterations*4\n",
    "        #print(number_of_moves)\n",
    "        return number_of_iterations, number_of_moves\n",
    "      else:\n",
    "          number_of_iterations+=1\n"
   ],
   "metadata": {
    "collapsed": false
   }
  },
  {
   "cell_type": "code",
   "execution_count": 19,
   "outputs": [
    {
     "name": "stdout",
     "output_type": "stream",
     "text": [
      " . ♛  .  . \n",
      " .  .  . ♛ \n",
      "♛  .  .  . \n",
      " .  . ♛  . \n"
     ]
    }
   ],
   "source": [
    "display()"
   ],
   "metadata": {
    "collapsed": false
   }
  },
  {
   "cell_type": "code",
   "execution_count": 27,
   "outputs": [
    {
     "name": "stdout",
     "output_type": "stream",
     "text": [
      "[]\n",
      "I did it! Here is my solution\n",
      " .  .  .  . ♛  .  .  . \n",
      " .  .  .  .  .  .  . ♛ \n",
      " .  .  . ♛  .  .  .  . \n",
      "♛  .  .  .  .  .  .  . \n",
      " .  . ♛  .  .  .  .  . \n",
      " .  .  .  .  . ♛  .  . \n",
      " . ♛  .  .  .  .  .  . \n",
      " .  .  .  .  .  . ♛  . \n",
      "[4, 7, 3, 0, 2, 5, 1, 6]\n"
     ]
    },
    {
     "data": {
      "text/plain": "(21416, 85664)"
     },
     "execution_count": 27,
     "metadata": {},
     "output_type": "execute_result"
    }
   ],
   "source": [
    "size=8\n",
    "solve_queen_british(size)"
   ],
   "metadata": {
    "collapsed": false
   }
  },
  {
   "cell_type": "markdown",
   "source": [
    "---\n",
    "# Heuristic Repair\n",
    "Use a heuristic to improve a board in the way most likely to lead to a solution\n"
   ],
   "metadata": {
    "collapsed": false
   }
  },
  {
   "cell_type": "markdown",
   "source": [
    "As a first try, lets try making a method to determine the possible spots for each piece, so we can see which placement maximizes potential spots left open.\n",
    "\n",
    "In order to allow for picking any column to place 1st, we need to have a new way to denote an unplaced piece."
   ],
   "metadata": {
    "collapsed": false
   }
  },
  {
   "cell_type": "code",
   "execution_count": 28,
   "outputs": [],
   "source": [
    "def empty_board():\n",
    "    columns.clear()\n",
    "    print(columns)\n",
    "    for i in range(0,size):\n",
    "        columns.append(-1)"
   ],
   "metadata": {
    "collapsed": false
   }
  },
  {
   "cell_type": "code",
   "execution_count": 47,
   "outputs": [],
   "source": [
    "def potential_cols(row):\n",
    "    available_cols=[]\n",
    "    available=True\n",
    "    # check column\n",
    "    for column in range(0,size):\n",
    "        available=True\n",
    "        for queen_column in columns:\n",
    "            if queen_column==-1:\n",
    "                continue\n",
    "            elif column == queen_column:\n",
    "                available= False\n",
    "\n",
    "        # check diagonal\n",
    "        for queen_row, queen_column in enumerate(columns):\n",
    "            if queen_column==-1:\n",
    "                continue\n",
    "            elif queen_column - queen_row == column - row:\n",
    "                available= False\n",
    "\n",
    "        # check other diagonal\n",
    "        for queen_row, queen_column in enumerate(columns):\n",
    "            if queen_column==-1:\n",
    "                continue\n",
    "            elif ((size - queen_column) - queen_row == (size - column) - row):\n",
    "                available= False\n",
    "        if available:\n",
    "            available_cols.append(column)\n",
    "    return available_cols"
   ],
   "metadata": {
    "collapsed": false
   }
  },
  {
   "cell_type": "markdown",
   "source": [
    "# preparatory test\n",
    "Before we go forward, test the above method."
   ],
   "metadata": {
    "collapsed": false
   }
  },
  {
   "cell_type": "code",
   "execution_count": 40,
   "outputs": [
    {
     "name": "stdout",
     "output_type": "stream",
     "text": [
      "[]\n",
      "♛  .  .  . \n",
      " .  .  .  . \n",
      " .  .  .  . \n",
      " .  .  .  . \n"
     ]
    }
   ],
   "source": [
    "size=4\n",
    "empty_board()\n",
    "columns[0]=0\n",
    "display()"
   ],
   "metadata": {
    "collapsed": false
   }
  },
  {
   "cell_type": "code",
   "execution_count": 45,
   "outputs": [
    {
     "name": "stdout",
     "output_type": "stream",
     "text": [
      "[1, 2, 3]\n",
      "[0, -1, -1, -1]\n"
     ]
    }
   ],
   "source": [
    "print(potential_cols(0))\n",
    "print(columns)"
   ],
   "metadata": {
    "collapsed": false
   }
  },
  {
   "cell_type": "code",
   "execution_count": 112,
   "outputs": [],
   "source": [
    "def place_best():\n",
    "    min_options=8\n",
    "    row_choice=1\n",
    "    available= [c for c in range(0,size) if columns[c]==-1]\n",
    "    for c in available:\n",
    "        options=potential_cols(c)\n",
    "        if len(options)<=min_options:\n",
    "            min_options=len(options)\n",
    "            col_choice=c\n",
    "    print(\"Placing col \", col_choice)\n",
    "    max_options_sum = 0\n",
    "    col_choice = -1\n",
    "    for row in range(0,size):\n",
    "        columns[col_choice]=row\n",
    "        if not col_is_valid(col_choice):\n",
    "            columns[col_choice]=-1\n",
    "            continue\n",
    "        opt_sum=0\n",
    "        for c in range(0,size):\n",
    "            if columns[c]==-1:\n",
    "                opt_sum+= len(potential_cols(c))\n",
    "        if opt_sum > max_options_sum:\n",
    "            max_options_sum=opt_sum\n",
    "            row_choice= row\n",
    "        columns[col_choice]=-1\n",
    "    columns[col_choice]=row_choice\n",
    "    print(columns)"
   ],
   "metadata": {
    "collapsed": false
   }
  },
  {
   "cell_type": "code",
   "execution_count": 113,
   "outputs": [
    {
     "name": "stdout",
     "output_type": "stream",
     "text": [
      "[]\n",
      "[-1, -1, -1, -1]\n",
      "Placing col  3\n",
      "[-1, -1, -1, 1]\n",
      " .  .  .  . \n",
      " .  .  .  . \n",
      " .  .  .  . \n",
      " . ♛  .  . \n",
      "Placing col  2\n",
      "[-1, -1, -1, 1]\n",
      " .  .  .  . \n",
      " .  .  .  . \n",
      " .  .  .  . \n",
      " . ♛  .  . \n",
      "Placing col  2\n",
      "[-1, -1, -1, 1]\n",
      " .  .  .  . \n",
      " .  .  .  . \n",
      " .  .  .  . \n",
      " . ♛  .  . \n",
      "Placing col  2\n",
      "[-1, -1, -1, 1]\n",
      " .  .  .  . \n",
      " .  .  .  . \n",
      " .  .  .  . \n",
      " . ♛  .  . \n"
     ]
    }
   ],
   "source": [
    "empty_board()\n",
    "print(columns)\n",
    "for i in range(0,4):\n",
    "    place_best()\n",
    "    display()"
   ],
   "metadata": {
    "collapsed": false
   }
  },
  {
   "cell_type": "code",
   "execution_count": 93,
   "outputs": [
    {
     "name": "stdout",
     "output_type": "stream",
     "text": [
      "Placing row  3\n",
      " .  .  .  . \n",
      " .  .  .  . \n",
      " .  .  .  . \n",
      " .  .  . ♛ \n"
     ]
    }
   ],
   "source": [],
   "metadata": {
    "collapsed": false
   }
  },
  {
   "cell_type": "code",
   "execution_count": 65,
   "outputs": [
    {
     "ename": "SyntaxError",
     "evalue": "invalid syntax (2171285295.py, line 8)",
     "output_type": "error",
     "traceback": [
      "\u001B[0;36m  Cell \u001B[0;32mIn [65], line 8\u001B[0;36m\u001B[0m\n\u001B[0;31m    if <=min_options:\u001B[0m\n\u001B[0m       ^\u001B[0m\n\u001B[0;31mSyntaxError\u001B[0m\u001B[0;31m:\u001B[0m invalid syntax\n"
     ]
    }
   ],
   "source": [],
   "metadata": {
    "collapsed": false
   }
  },
  {
   "cell_type": "code",
   "execution_count": 84,
   "outputs": [
    {
     "name": "stdout",
     "output_type": "stream",
     "text": [
      "[]\n",
      "[0, 1, 2, 3]\n"
     ]
    }
   ],
   "source": [
    "empty_board()\n",
    "remaining=[c for c in range(0,size) if columns[c]==-1]\n",
    "print(remaining)"
   ],
   "metadata": {
    "collapsed": false
   }
  },
  {
   "cell_type": "code",
   "execution_count": 117,
   "outputs": [
    {
     "name": "stdout",
     "output_type": "stream",
     "text": [
      "[]\n",
      " .  .  .  . \n",
      " .  .  .  . \n",
      " .  .  .  . \n",
      " .  .  .  . \n"
     ]
    }
   ],
   "source": [
    "empty_board()\n",
    "display()"
   ],
   "metadata": {
    "collapsed": false
   }
  },
  {
   "cell_type": "code",
   "execution_count": 118,
   "outputs": [
    {
     "name": "stdout",
     "output_type": "stream",
     "text": [
      "♛  .  .  . \n",
      " .  .  .  . \n",
      " .  .  .  . \n",
      " .  .  .  . \n"
     ]
    }
   ],
   "source": [
    "columns[0]=0\n",
    "display()"
   ],
   "metadata": {
    "collapsed": false
   }
  },
  {
   "cell_type": "code",
   "execution_count": 122,
   "outputs": [
    {
     "name": "stdout",
     "output_type": "stream",
     "text": [
      " .  .  . ♛ \n",
      " .  .  .  . \n",
      " .  .  .  . \n",
      " .  .  .  . \n"
     ]
    }
   ],
   "source": [
    "columns[0]=3\n",
    "display()"
   ],
   "metadata": {
    "collapsed": false
   }
  },
  {
   "cell_type": "code",
   "execution_count": 1,
   "outputs": [
    {
     "ename": "NameError",
     "evalue": "name 'solve_queen' is not defined",
     "output_type": "error",
     "traceback": [
      "\u001B[0;31m---------------------------------------------------------------------------\u001B[0m",
      "\u001B[0;31mNameError\u001B[0m                                 Traceback (most recent call last)",
      "Cell \u001B[0;32mIn [1], line 2\u001B[0m\n\u001B[1;32m      1\u001B[0m size\u001B[38;5;241m=\u001B[39m\u001B[38;5;241m8\u001B[39m\n\u001B[0;32m----> 2\u001B[0m \u001B[43msolve_queen\u001B[49m(size)\n",
      "\u001B[0;31mNameError\u001B[0m: name 'solve_queen' is not defined"
     ]
    }
   ],
   "source": [
    "size=8\n",
    "solve_queen(size)"
   ],
   "metadata": {
    "collapsed": false
   }
  },
  {
   "cell_type": "code",
   "execution_count": null,
   "outputs": [],
   "source": [],
   "metadata": {
    "collapsed": false
   }
  }
 ]
}
